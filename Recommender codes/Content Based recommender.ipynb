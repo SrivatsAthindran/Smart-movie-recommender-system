{
 "cells": [
  {
   "cell_type": "code",
   "execution_count": 3,
   "metadata": {},
   "outputs": [
    {
     "name": "stderr",
     "output_type": "stream",
     "text": [
      "In C:\\Users\\PKN\\Anaconda3\\lib\\site-packages\\matplotlib\\mpl-data\\stylelib\\_classic_test.mplstyle: \n",
      "The text.latex.preview rcparam was deprecated in Matplotlib 3.3 and will be removed two minor releases later.\n",
      "In C:\\Users\\PKN\\Anaconda3\\lib\\site-packages\\matplotlib\\mpl-data\\stylelib\\_classic_test.mplstyle: \n",
      "The mathtext.fallback_to_cm rcparam was deprecated in Matplotlib 3.3 and will be removed two minor releases later.\n",
      "In C:\\Users\\PKN\\Anaconda3\\lib\\site-packages\\matplotlib\\mpl-data\\stylelib\\_classic_test.mplstyle: Support for setting the 'mathtext.fallback_to_cm' rcParam is deprecated since 3.3 and will be removed two minor releases later; use 'mathtext.fallback : 'cm' instead.\n",
      "In C:\\Users\\PKN\\Anaconda3\\lib\\site-packages\\matplotlib\\mpl-data\\stylelib\\_classic_test.mplstyle: \n",
      "The validate_bool_maybe_none function was deprecated in Matplotlib 3.3 and will be removed two minor releases later.\n",
      "In C:\\Users\\PKN\\Anaconda3\\lib\\site-packages\\matplotlib\\mpl-data\\stylelib\\_classic_test.mplstyle: \n",
      "The savefig.jpeg_quality rcparam was deprecated in Matplotlib 3.3 and will be removed two minor releases later.\n",
      "In C:\\Users\\PKN\\Anaconda3\\lib\\site-packages\\matplotlib\\mpl-data\\stylelib\\_classic_test.mplstyle: \n",
      "The keymap.all_axes rcparam was deprecated in Matplotlib 3.3 and will be removed two minor releases later.\n",
      "In C:\\Users\\PKN\\Anaconda3\\lib\\site-packages\\matplotlib\\mpl-data\\stylelib\\_classic_test.mplstyle: \n",
      "The animation.avconv_path rcparam was deprecated in Matplotlib 3.3 and will be removed two minor releases later.\n",
      "In C:\\Users\\PKN\\Anaconda3\\lib\\site-packages\\matplotlib\\mpl-data\\stylelib\\_classic_test.mplstyle: \n",
      "The animation.avconv_args rcparam was deprecated in Matplotlib 3.3 and will be removed two minor releases later.\n"
     ]
    }
   ],
   "source": [
    "%matplotlib inline\n",
    "import pandas as pd\n",
    "import numpy as np\n",
    "import matplotlib.pyplot as plt\n",
    "import seaborn as sns\n",
    "from scipy import stats\n",
    "from ast import literal_eval\n",
    "from sklearn.feature_extraction.text import TfidfVectorizer, CountVectorizer\n",
    "from sklearn.metrics.pairwise import linear_kernel, cosine_similarity\n",
    "from nltk.stem.snowball import SnowballStemmer\n",
    "from nltk.stem.wordnet import WordNetLemmatizer\n",
    "from nltk.corpus import wordnet\n",
    "from surprise import Reader, Dataset, SVD\n",
    "from sklearn.metrics.pairwise import linear_kernel\n",
    "import warnings; warnings.simplefilter('ignore')"
   ]
  },
  {
   "cell_type": "code",
   "execution_count": null,
   "metadata": {},
   "outputs": [],
   "source": [
    "combined_df = pd.read_csv('F:/Visual Analytics and Applications/Project/Recommender_amit/movielens-imdb-combined/movielens-imdb-combined.csv')"
   ]
  },
  {
   "cell_type": "code",
   "execution_count": 4,
   "metadata": {},
   "outputs": [
    {
     "data": {
      "text/html": [
       "<div>\n",
       "<style scoped>\n",
       "    .dataframe tbody tr th:only-of-type {\n",
       "        vertical-align: middle;\n",
       "    }\n",
       "\n",
       "    .dataframe tbody tr th {\n",
       "        vertical-align: top;\n",
       "    }\n",
       "\n",
       "    .dataframe thead th {\n",
       "        text-align: right;\n",
       "    }\n",
       "</style>\n",
       "<table border=\"1\" class=\"dataframe\">\n",
       "  <thead>\n",
       "    <tr style=\"text-align: right;\">\n",
       "      <th></th>\n",
       "      <th>movielens_movieId</th>\n",
       "      <th>movielens_title</th>\n",
       "      <th>movielens_genres</th>\n",
       "      <th>imdb_link</th>\n",
       "      <th>movielens_userId</th>\n",
       "      <th>movielens_rating</th>\n",
       "      <th>movielens_timestamp_rating</th>\n",
       "      <th>movielens_user_review</th>\n",
       "      <th>movielens_timestamp_tag</th>\n",
       "      <th>imdb_director_name</th>\n",
       "      <th>...</th>\n",
       "      <th>imdb_actor_3_name</th>\n",
       "      <th>imdb_plot_keywords</th>\n",
       "      <th>imdb_num_user_for_reviews</th>\n",
       "      <th>imdb_language</th>\n",
       "      <th>imdb_country</th>\n",
       "      <th>imdb_budget</th>\n",
       "      <th>imdb_title_year</th>\n",
       "      <th>imdb_actor_2_facebook_likes</th>\n",
       "      <th>imdb_score</th>\n",
       "      <th>imdb_movie_facebook_likes</th>\n",
       "    </tr>\n",
       "  </thead>\n",
       "  <tbody>\n",
       "    <tr>\n",
       "      <td>0</td>\n",
       "      <td>1</td>\n",
       "      <td>Toy Story (1995)</td>\n",
       "      <td>Adventure|Animation|Children|Comedy|Fantasy</td>\n",
       "      <td>https://www.imdb.com/title/tt0114709</td>\n",
       "      <td>1040</td>\n",
       "      <td>2.5</td>\n",
       "      <td>1514919511</td>\n",
       "      <td>animated</td>\n",
       "      <td>1514919574</td>\n",
       "      <td>John Lasseter</td>\n",
       "      <td>...</td>\n",
       "      <td>Jim Varney</td>\n",
       "      <td>claw crane|cowboy|jealousy|rivalry|toy</td>\n",
       "      <td>391.0</td>\n",
       "      <td>English</td>\n",
       "      <td>USA</td>\n",
       "      <td>30000000.0</td>\n",
       "      <td>1995.0</td>\n",
       "      <td>1000.0</td>\n",
       "      <td>8.3</td>\n",
       "      <td>0</td>\n",
       "    </tr>\n",
       "    <tr>\n",
       "      <td>1</td>\n",
       "      <td>1</td>\n",
       "      <td>Toy Story (1995)</td>\n",
       "      <td>Adventure|Animation|Children|Comedy|Fantasy</td>\n",
       "      <td>https://www.imdb.com/title/tt0114709</td>\n",
       "      <td>1040</td>\n",
       "      <td>2.5</td>\n",
       "      <td>1514919511</td>\n",
       "      <td>buddy movie</td>\n",
       "      <td>1514919577</td>\n",
       "      <td>John Lasseter</td>\n",
       "      <td>...</td>\n",
       "      <td>Jim Varney</td>\n",
       "      <td>claw crane|cowboy|jealousy|rivalry|toy</td>\n",
       "      <td>391.0</td>\n",
       "      <td>English</td>\n",
       "      <td>USA</td>\n",
       "      <td>30000000.0</td>\n",
       "      <td>1995.0</td>\n",
       "      <td>1000.0</td>\n",
       "      <td>8.3</td>\n",
       "      <td>0</td>\n",
       "    </tr>\n",
       "    <tr>\n",
       "      <td>2</td>\n",
       "      <td>1</td>\n",
       "      <td>Toy Story (1995)</td>\n",
       "      <td>Adventure|Animation|Children|Comedy|Fantasy</td>\n",
       "      <td>https://www.imdb.com/title/tt0114709</td>\n",
       "      <td>1040</td>\n",
       "      <td>2.5</td>\n",
       "      <td>1514919511</td>\n",
       "      <td>Cartoon</td>\n",
       "      <td>1514919589</td>\n",
       "      <td>John Lasseter</td>\n",
       "      <td>...</td>\n",
       "      <td>Jim Varney</td>\n",
       "      <td>claw crane|cowboy|jealousy|rivalry|toy</td>\n",
       "      <td>391.0</td>\n",
       "      <td>English</td>\n",
       "      <td>USA</td>\n",
       "      <td>30000000.0</td>\n",
       "      <td>1995.0</td>\n",
       "      <td>1000.0</td>\n",
       "      <td>8.3</td>\n",
       "      <td>0</td>\n",
       "    </tr>\n",
       "    <tr>\n",
       "      <td>3</td>\n",
       "      <td>1</td>\n",
       "      <td>Toy Story (1995)</td>\n",
       "      <td>Adventure|Animation|Children|Comedy|Fantasy</td>\n",
       "      <td>https://www.imdb.com/title/tt0114709</td>\n",
       "      <td>1040</td>\n",
       "      <td>2.5</td>\n",
       "      <td>1514919511</td>\n",
       "      <td>cgi</td>\n",
       "      <td>1514919556</td>\n",
       "      <td>John Lasseter</td>\n",
       "      <td>...</td>\n",
       "      <td>Jim Varney</td>\n",
       "      <td>claw crane|cowboy|jealousy|rivalry|toy</td>\n",
       "      <td>391.0</td>\n",
       "      <td>English</td>\n",
       "      <td>USA</td>\n",
       "      <td>30000000.0</td>\n",
       "      <td>1995.0</td>\n",
       "      <td>1000.0</td>\n",
       "      <td>8.3</td>\n",
       "      <td>0</td>\n",
       "    </tr>\n",
       "    <tr>\n",
       "      <td>4</td>\n",
       "      <td>1</td>\n",
       "      <td>Toy Story (1995)</td>\n",
       "      <td>Adventure|Animation|Children|Comedy|Fantasy</td>\n",
       "      <td>https://www.imdb.com/title/tt0114709</td>\n",
       "      <td>1040</td>\n",
       "      <td>2.5</td>\n",
       "      <td>1514919511</td>\n",
       "      <td>comedy</td>\n",
       "      <td>1514919569</td>\n",
       "      <td>John Lasseter</td>\n",
       "      <td>...</td>\n",
       "      <td>Jim Varney</td>\n",
       "      <td>claw crane|cowboy|jealousy|rivalry|toy</td>\n",
       "      <td>391.0</td>\n",
       "      <td>English</td>\n",
       "      <td>USA</td>\n",
       "      <td>30000000.0</td>\n",
       "      <td>1995.0</td>\n",
       "      <td>1000.0</td>\n",
       "      <td>8.3</td>\n",
       "      <td>0</td>\n",
       "    </tr>\n",
       "  </tbody>\n",
       "</table>\n",
       "<p>5 rows × 32 columns</p>\n",
       "</div>"
      ],
      "text/plain": [
       "   movielens_movieId   movielens_title  \\\n",
       "0                  1  Toy Story (1995)   \n",
       "1                  1  Toy Story (1995)   \n",
       "2                  1  Toy Story (1995)   \n",
       "3                  1  Toy Story (1995)   \n",
       "4                  1  Toy Story (1995)   \n",
       "\n",
       "                              movielens_genres  \\\n",
       "0  Adventure|Animation|Children|Comedy|Fantasy   \n",
       "1  Adventure|Animation|Children|Comedy|Fantasy   \n",
       "2  Adventure|Animation|Children|Comedy|Fantasy   \n",
       "3  Adventure|Animation|Children|Comedy|Fantasy   \n",
       "4  Adventure|Animation|Children|Comedy|Fantasy   \n",
       "\n",
       "                              imdb_link  movielens_userId  movielens_rating  \\\n",
       "0  https://www.imdb.com/title/tt0114709              1040               2.5   \n",
       "1  https://www.imdb.com/title/tt0114709              1040               2.5   \n",
       "2  https://www.imdb.com/title/tt0114709              1040               2.5   \n",
       "3  https://www.imdb.com/title/tt0114709              1040               2.5   \n",
       "4  https://www.imdb.com/title/tt0114709              1040               2.5   \n",
       "\n",
       "   movielens_timestamp_rating movielens_user_review  movielens_timestamp_tag  \\\n",
       "0                  1514919511              animated               1514919574   \n",
       "1                  1514919511           buddy movie               1514919577   \n",
       "2                  1514919511               Cartoon               1514919589   \n",
       "3                  1514919511                   cgi               1514919556   \n",
       "4                  1514919511                comedy               1514919569   \n",
       "\n",
       "  imdb_director_name  ...  imdb_actor_3_name  \\\n",
       "0      John Lasseter  ...         Jim Varney   \n",
       "1      John Lasseter  ...         Jim Varney   \n",
       "2      John Lasseter  ...         Jim Varney   \n",
       "3      John Lasseter  ...         Jim Varney   \n",
       "4      John Lasseter  ...         Jim Varney   \n",
       "\n",
       "                       imdb_plot_keywords  imdb_num_user_for_reviews  \\\n",
       "0  claw crane|cowboy|jealousy|rivalry|toy                      391.0   \n",
       "1  claw crane|cowboy|jealousy|rivalry|toy                      391.0   \n",
       "2  claw crane|cowboy|jealousy|rivalry|toy                      391.0   \n",
       "3  claw crane|cowboy|jealousy|rivalry|toy                      391.0   \n",
       "4  claw crane|cowboy|jealousy|rivalry|toy                      391.0   \n",
       "\n",
       "   imdb_language imdb_country  imdb_budget  imdb_title_year  \\\n",
       "0        English          USA   30000000.0           1995.0   \n",
       "1        English          USA   30000000.0           1995.0   \n",
       "2        English          USA   30000000.0           1995.0   \n",
       "3        English          USA   30000000.0           1995.0   \n",
       "4        English          USA   30000000.0           1995.0   \n",
       "\n",
       "  imdb_actor_2_facebook_likes imdb_score imdb_movie_facebook_likes  \n",
       "0                      1000.0        8.3                         0  \n",
       "1                      1000.0        8.3                         0  \n",
       "2                      1000.0        8.3                         0  \n",
       "3                      1000.0        8.3                         0  \n",
       "4                      1000.0        8.3                         0  \n",
       "\n",
       "[5 rows x 32 columns]"
      ]
     },
     "execution_count": 4,
     "metadata": {},
     "output_type": "execute_result"
    }
   ],
   "source": [
    "combined_df.head()"
   ]
  },
  {
   "cell_type": "code",
   "execution_count": 5,
   "metadata": {},
   "outputs": [
    {
     "data": {
      "text/plain": [
       "7.0547329232647815"
      ]
     },
     "execution_count": 5,
     "metadata": {},
     "output_type": "execute_result"
    }
   ],
   "source": [
    "vote_counts = combined_df[combined_df['imdb_num_critic_for_reviews'].notnull()]['imdb_num_critic_for_reviews'].astype('int')\n",
    "vote_averages = combined_df[combined_df['imdb_score'].notnull()]['imdb_score'].astype('int')\n",
    "C = vote_averages.mean()\n",
    "C"
   ]
  },
  {
   "cell_type": "code",
   "execution_count": 6,
   "metadata": {},
   "outputs": [
    {
     "data": {
      "text/plain": [
       "42.0"
      ]
     },
     "execution_count": 6,
     "metadata": {},
     "output_type": "execute_result"
    }
   ],
   "source": [
    "m = vote_counts.quantile(0.01)\n",
    "m"
   ]
  },
  {
   "cell_type": "code",
   "execution_count": 7,
   "metadata": {},
   "outputs": [],
   "source": [
    "combined_df['year'] = combined_df['movielens_title'].apply(lambda x: str(x).replace(\")\",\"\").split(\" (\")[1])"
   ]
  },
  {
   "cell_type": "code",
   "execution_count": 8,
   "metadata": {},
   "outputs": [],
   "source": [
    "combined_df['movie'] = combined_df['movielens_title'].apply(lambda x: str(x).replace(\")\",\"\").split(\" (\")[0])"
   ]
  },
  {
   "cell_type": "code",
   "execution_count": 9,
   "metadata": {},
   "outputs": [
    {
     "data": {
      "text/plain": [
       "Index(['movielens_movieId', 'movielens_title', 'movielens_genres', 'imdb_link',\n",
       "       'movielens_userId', 'movielens_rating', 'movielens_timestamp_rating',\n",
       "       'movielens_user_review', 'movielens_timestamp_tag',\n",
       "       'imdb_director_name', 'imdb_num_critic_for_reviews', 'imdb_duration',\n",
       "       'imdb_director_facebook_likes', 'imdb_actor_3_facebook_likes',\n",
       "       'imdb_actor_2_name', 'imdb_actor_1_facebook_likes', 'imdb_gross',\n",
       "       'imdb_genres', 'imdb_actor_1_name', 'imdb_movie_title',\n",
       "       'imdb_num_voted_users', 'imdb_cast_total_facebook_likes',\n",
       "       'imdb_actor_3_name', 'imdb_plot_keywords', 'imdb_num_user_for_reviews',\n",
       "       'imdb_language', 'imdb_country', 'imdb_budget', 'imdb_title_year',\n",
       "       'imdb_actor_2_facebook_likes', 'imdb_score',\n",
       "       'imdb_movie_facebook_likes', 'year', 'movie'],\n",
       "      dtype='object')"
      ]
     },
     "execution_count": 9,
     "metadata": {},
     "output_type": "execute_result"
    }
   ],
   "source": [
    "combined_df.columns"
   ]
  },
  {
   "cell_type": "code",
   "execution_count": 10,
   "metadata": {},
   "outputs": [
    {
     "data": {
      "text/plain": [
       "(564594, 12)"
      ]
     },
     "execution_count": 10,
     "metadata": {},
     "output_type": "execute_result"
    }
   ],
   "source": [
    "qualified = combined_df[(combined_df['imdb_num_critic_for_reviews'] >= m) & (combined_df['imdb_num_critic_for_reviews'].notnull()) & (combined_df['imdb_score'].notnull())][['movie', 'year','imdb_plot_keywords','imdb_director_name', 'imdb_num_critic_for_reviews', 'imdb_score','imdb_actor_1_facebook_likes', 'imdb_director_facebook_likes','imdb_actor_1_name','imdb_actor_2_name','imdb_movie_facebook_likes', 'movielens_genres']]\n",
    "qualified['imdb_num_critic_for_reviews'] = qualified['imdb_num_critic_for_reviews'].astype('int')\n",
    "qualified['imdb_score'] = qualified['imdb_score'].astype('int')\n",
    "qualified.shape"
   ]
  },
  {
   "cell_type": "code",
   "execution_count": 11,
   "metadata": {},
   "outputs": [],
   "source": [
    "stemmer = SnowballStemmer('english')"
   ]
  },
  {
   "cell_type": "code",
   "execution_count": 12,
   "metadata": {},
   "outputs": [],
   "source": [
    "def weighted_rating(x):\n",
    "    v = x['imdb_num_critic_for_reviews']\n",
    "    R = x['imdb_score']\n",
    "    return (v/(v+m) * R) + (m/(m+v) * C)\n",
    "qualified['wr'] = qualified.apply(weighted_rating, axis=1)"
   ]
  },
  {
   "cell_type": "code",
   "execution_count": 13,
   "metadata": {},
   "outputs": [],
   "source": [
    "qualified = qualified.sort_values('wr', ascending=False)"
   ]
  },
  {
   "cell_type": "code",
   "execution_count": 14,
   "metadata": {},
   "outputs": [],
   "source": [
    "def clean_data(x):\n",
    "    if isinstance(x, list):\n",
    "        return [str.lower(i.replace(\" \", \"\")) for i in x]\n",
    "    else:\n",
    "        #Check if director exists. If not, return empty string\n",
    "        if isinstance(x, str):\n",
    "            return str.lower(x.replace(\" \", \"\"))\n",
    "        else:\n",
    "            return ''"
   ]
  },
  {
   "cell_type": "code",
   "execution_count": 15,
   "metadata": {},
   "outputs": [],
   "source": [
    "features = ['imdb_actor_1_name','imdb_actor_2_name', 'imdb_plot_keywords', 'imdb_director_name', 'movielens_genres']\n",
    "\n",
    "for feature in features:\n",
    "    qualified[feature] = qualified[feature].apply(clean_data)"
   ]
  },
  {
   "cell_type": "code",
   "execution_count": 16,
   "metadata": {},
   "outputs": [],
   "source": [
    "qualified['imdb_plot_keywords'] = qualified['imdb_plot_keywords'].str.replace('|',' ')"
   ]
  },
  {
   "cell_type": "code",
   "execution_count": 17,
   "metadata": {},
   "outputs": [],
   "source": [
    "qualified['movielens_genres'] = qualified['movielens_genres'].str.replace('|',' ')"
   ]
  },
  {
   "cell_type": "code",
   "execution_count": 110,
   "metadata": {},
   "outputs": [],
   "source": [
    "def create_soup(x):\n",
    "    return ' '.join(x['imdb_plot_keywords']) + ' ' + ' '.join(x['imdb_actor_1_name']) + ' ' + ' '.join(x['imdb_actor_2_name']) + ' ' + x['imdb_director_name'] + ' ' + ' '.join(x['movielens_genres'])"
   ]
  },
  {
   "cell_type": "code",
   "execution_count": 18,
   "metadata": {},
   "outputs": [],
   "source": [
    "def create_soup1(x):\n",
    "    return ''.join(x['imdb_plot_keywords']) + ' ' + ''.join(x['imdb_actor_1_name']) + ' ' + ''.join(x['imdb_actor_2_name']) + ' ' + x['imdb_director_name'] + ' ' + ''.join(x['movielens_genres'])"
   ]
  },
  {
   "cell_type": "code",
   "execution_count": 19,
   "metadata": {},
   "outputs": [
    {
     "data": {
      "text/plain": [
       "365721    basedoncomicbook dccomics psychopath stardiedb...\n",
       "365934    basedoncomicbook dccomics psychopath stardiedb...\n",
       "365922    basedoncomicbook dccomics psychopath stardiedb...\n",
       "365923    basedoncomicbook dccomics psychopath stardiedb...\n",
       "365924    basedoncomicbook dccomics psychopath stardiedb...\n",
       "                                ...                        \n",
       "377832    disaster glass mousetrap naturaldisaster scato...\n",
       "377831    disaster glass mousetrap naturaldisaster scato...\n",
       "377830    disaster glass mousetrap naturaldisaster scato...\n",
       "377829    disaster glass mousetrap naturaldisaster scato...\n",
       "377833    disaster glass mousetrap naturaldisaster scato...\n",
       "Name: imdb_plot_keywords, Length: 564594, dtype: object"
      ]
     },
     "execution_count": 19,
     "metadata": {},
     "output_type": "execute_result"
    }
   ],
   "source": [
    "qualified['imdb_plot_keywords']"
   ]
  },
  {
   "cell_type": "code",
   "execution_count": 20,
   "metadata": {},
   "outputs": [
    {
     "data": {
      "text/plain": [
       "365721    action crime drama imax\n",
       "365934    action crime drama imax\n",
       "365922    action crime drama imax\n",
       "365923    action crime drama imax\n",
       "365924    action crime drama imax\n",
       "                   ...           \n",
       "377832                     comedy\n",
       "377831                     comedy\n",
       "377830                     comedy\n",
       "377829                     comedy\n",
       "377833                     comedy\n",
       "Name: movielens_genres, Length: 564594, dtype: object"
      ]
     },
     "execution_count": 20,
     "metadata": {},
     "output_type": "execute_result"
    }
   ],
   "source": [
    "qualified['movielens_genres']"
   ]
  },
  {
   "cell_type": "code",
   "execution_count": 21,
   "metadata": {},
   "outputs": [],
   "source": [
    "qualified['soup'] = qualified.apply(create_soup1, axis=1)"
   ]
  },
  {
   "cell_type": "code",
   "execution_count": 22,
   "metadata": {},
   "outputs": [],
   "source": [
    "pd.set_option('display.max_colwidth', -1)"
   ]
  },
  {
   "cell_type": "code",
   "execution_count": 23,
   "metadata": {},
   "outputs": [
    {
     "data": {
      "text/html": [
       "<div>\n",
       "<style scoped>\n",
       "    .dataframe tbody tr th:only-of-type {\n",
       "        vertical-align: middle;\n",
       "    }\n",
       "\n",
       "    .dataframe tbody tr th {\n",
       "        vertical-align: top;\n",
       "    }\n",
       "\n",
       "    .dataframe thead th {\n",
       "        text-align: right;\n",
       "    }\n",
       "</style>\n",
       "<table border=\"1\" class=\"dataframe\">\n",
       "  <thead>\n",
       "    <tr style=\"text-align: right;\">\n",
       "      <th></th>\n",
       "      <th>soup</th>\n",
       "    </tr>\n",
       "  </thead>\n",
       "  <tbody>\n",
       "    <tr>\n",
       "      <td>365721</td>\n",
       "      <td>basedoncomicbook dccomics psychopath stardiedbeforerelease urbansetting christianbale heathledger christophernolan action crime drama imax</td>\n",
       "    </tr>\n",
       "    <tr>\n",
       "      <td>365934</td>\n",
       "      <td>basedoncomicbook dccomics psychopath stardiedbeforerelease urbansetting christianbale heathledger christophernolan action crime drama imax</td>\n",
       "    </tr>\n",
       "  </tbody>\n",
       "</table>\n",
       "</div>"
      ],
      "text/plain": [
       "                                                                                                                                              soup\n",
       "365721  basedoncomicbook dccomics psychopath stardiedbeforerelease urbansetting christianbale heathledger christophernolan action crime drama imax\n",
       "365934  basedoncomicbook dccomics psychopath stardiedbeforerelease urbansetting christianbale heathledger christophernolan action crime drama imax"
      ]
     },
     "execution_count": 23,
     "metadata": {},
     "output_type": "execute_result"
    }
   ],
   "source": [
    "qualified[['soup']].head(2)"
   ]
  },
  {
   "cell_type": "code",
   "execution_count": 24,
   "metadata": {},
   "outputs": [],
   "source": [
    "qualified = qualified.drop_duplicates('movie',keep = 'first')"
   ]
  },
  {
   "cell_type": "code",
   "execution_count": 25,
   "metadata": {},
   "outputs": [],
   "source": [
    "count = CountVectorizer(stop_words = 'english')\n",
    "count_matrix = count.fit_transform(qualified['soup'])"
   ]
  },
  {
   "cell_type": "code",
   "execution_count": 26,
   "metadata": {},
   "outputs": [
    {
     "data": {
      "text/plain": [
       "(3686, 11553)"
      ]
     },
     "execution_count": 26,
     "metadata": {},
     "output_type": "execute_result"
    }
   ],
   "source": [
    "count_matrix.shape"
   ]
  },
  {
   "cell_type": "code",
   "execution_count": 27,
   "metadata": {},
   "outputs": [
    {
     "data": {
      "text/plain": [
       "<3686x11553 sparse matrix of type '<class 'numpy.int64'>'\n",
       "\twith 39351 stored elements in Compressed Sparse Row format>"
      ]
     },
     "execution_count": 27,
     "metadata": {},
     "output_type": "execute_result"
    }
   ],
   "source": [
    "count_matrix"
   ]
  },
  {
   "cell_type": "code",
   "execution_count": 28,
   "metadata": {},
   "outputs": [],
   "source": [
    "cosine_sim2 = cosine_similarity(count_matrix, count_matrix)"
   ]
  },
  {
   "cell_type": "code",
   "execution_count": 29,
   "metadata": {},
   "outputs": [],
   "source": [
    "qualified = qualified.reset_index()\n",
    "indices = pd.Series(qualified.index, index=qualified['movie'])"
   ]
  },
  {
   "cell_type": "code",
   "execution_count": 30,
   "metadata": {},
   "outputs": [],
   "source": [
    "indices = pd.Series(qualified.index, index=qualified['movie']).drop_duplicates()"
   ]
  },
  {
   "cell_type": "code",
   "execution_count": 31,
   "metadata": {},
   "outputs": [
    {
     "name": "stdout",
     "output_type": "stream",
     "text": [
      "movie\n",
      "Dark Knight, The              0 \n",
      "Godfather, The                1 \n",
      "Shawshank Redemption, The     2 \n",
      "Godfather: Part II, The       3 \n",
      "Decalogue, The                4 \n",
      "Dark Knight Rises, The        5 \n",
      "Django Unchained              6 \n",
      "Mad Max: Fury Road            7 \n",
      "Interstellar                  8 \n",
      "Avengers, The                 9 \n",
      "Black Swan                    10\n",
      "Guardians of the Galaxy       11\n",
      "Inception                     12\n",
      "Wolf of Wall Street, The      13\n",
      "12 Years a Slave              14\n",
      "Deadpool                      15\n",
      "The Artist                    16\n",
      "Her                           17\n",
      "The Martian                   18\n",
      "Gone Girl                     19\n",
      "The Revenant                  20\n",
      "Life of Pi                    21\n",
      "Boyhood                       22\n",
      "X-Men: Days of Future Past    23\n",
      "Grand Budapest Hotel, The     24\n",
      "Inside Out                    25\n",
      "Whiplash                      26\n",
      "V for Vendetta                27\n",
      "Star Trek                     28\n",
      "Captain America: Civil War    29\n",
      "Shutter Island                30\n",
      "No Country for Old Men        31\n",
      "Inglourious Basterds          32\n",
      "King's Speech, The            33\n",
      "Batman Begins                 34\n",
      "Spotlight                     35\n",
      "District 9                    36\n",
      "Dallas Buyers Club            37\n",
      "The Imitation Game            38\n",
      "Prisoners                     39\n",
      "Toy Story 3                   40\n",
      "WALL·E                        41\n",
      "Room                          42\n",
      "Slumdog Millionaire           43\n",
      "Up                            44\n",
      "Pan's Labyrinth               45\n",
      "Casino Royale                 46\n",
      "There Will Be Blood           47\n",
      "Rush                          48\n",
      "Alien                         49\n",
      "dtype: int64\n"
     ]
    }
   ],
   "source": [
    "print(indices[:50])"
   ]
  },
  {
   "cell_type": "code",
   "execution_count": 32,
   "metadata": {},
   "outputs": [
    {
     "data": {
      "text/plain": [
       "array(['Dark Knight, The', 'Godfather, The', 'Shawshank Redemption, The',\n",
       "       ..., 'Justin Bieber: Never Say Never', 'Battlefield Earth',\n",
       "       'Disaster Movie'], dtype=object)"
      ]
     },
     "execution_count": 32,
     "metadata": {},
     "output_type": "execute_result"
    }
   ],
   "source": [
    "qualified['movie'].unique()"
   ]
  },
  {
   "cell_type": "markdown",
   "metadata": {},
   "source": [
    "Function to get top 5 similar movies based on cosine similarity"
   ]
  },
  {
   "cell_type": "code",
   "execution_count": 34,
   "metadata": {},
   "outputs": [],
   "source": [
    "def get_recommendations(title, cosine_sim):\n",
    "    # Get the index of the movie that matches the title\n",
    "    idx = indices[title]\n",
    "\n",
    "    # Get the pairwsie similarity scores of all movies with that movie\n",
    "    sim_scores = list(enumerate(cosine_sim[idx]))\n",
    "\n",
    "    # Sort the movies based on the similarity scores\n",
    "    sim_scores = sorted(sim_scores, key=lambda x: x[1], reverse=True)\n",
    "\n",
    "    # Get the scores of the 5 most similar movies\n",
    "    sim_scores = sim_scores[1:6]\n",
    "\n",
    "    # Get the movie indices\n",
    "    movie_indices = [i[0] for i in sim_scores]\n",
    "\n",
    "    # Return the top 5 most similar movies\n",
    "    return qualified['movie'].iloc[movie_indices]"
   ]
  },
  {
   "cell_type": "code",
   "execution_count": 37,
   "metadata": {},
   "outputs": [
    {
     "data": {
      "text/plain": [
       "12      Inception      \n",
       "815     Contact        \n",
       "1580    Cargo          \n",
       "2126    Dune           \n",
       "3001    Black Hole, The\n",
       "Name: movie, dtype: object"
      ]
     },
     "execution_count": 37,
     "metadata": {},
     "output_type": "execute_result"
    }
   ],
   "source": [
    "get_recommendations('Interstellar', cosine_sim=cosine_sim2)"
   ]
  },
  {
   "cell_type": "code",
   "execution_count": 134,
   "metadata": {},
   "outputs": [],
   "source": [
    "movies, scores = get_recommendations('Terminator 2: Judgment Day', cosine_sim=cosine_sim2)"
   ]
  },
  {
   "cell_type": "code",
   "execution_count": 135,
   "metadata": {},
   "outputs": [
    {
     "data": {
      "text/plain": [
       "2891    Timecop                           \n",
       "1394    Looper                            \n",
       "1409    Avatar                            \n",
       "927     Starship Troopers                 \n",
       "1653    Escape from the Planet of the Apes\n",
       "Name: movie, dtype: object"
      ]
     },
     "execution_count": 135,
     "metadata": {},
     "output_type": "execute_result"
    }
   ],
   "source": [
    "movies"
   ]
  },
  {
   "cell_type": "code",
   "execution_count": 136,
   "metadata": {},
   "outputs": [
    {
     "data": {
      "text/plain": [
       "[(2891, 0.4351941398892446),\n",
       " (1394, 0.41812100500354543),\n",
       " (1409, 0.41812100500354543),\n",
       " (927, 0.36363636363636365),\n",
       " (1653, 0.36363636363636365)]"
      ]
     },
     "execution_count": 136,
     "metadata": {},
     "output_type": "execute_result"
    }
   ],
   "source": [
    "scores"
   ]
  },
  {
   "cell_type": "code",
   "execution_count": 137,
   "metadata": {},
   "outputs": [],
   "source": [
    "movies = pd.DataFrame(movies)"
   ]
  },
  {
   "cell_type": "code",
   "execution_count": 138,
   "metadata": {},
   "outputs": [],
   "source": [
    "movie_trans = movies.transpose()"
   ]
  },
  {
   "cell_type": "code",
   "execution_count": 139,
   "metadata": {},
   "outputs": [],
   "source": [
    "movie_trans.columns = ['Movie1','Movie2','Movie3','Movie4','Movie5']"
   ]
  },
  {
   "cell_type": "code",
   "execution_count": 140,
   "metadata": {},
   "outputs": [
    {
     "data": {
      "text/html": [
       "<div>\n",
       "<style scoped>\n",
       "    .dataframe tbody tr th:only-of-type {\n",
       "        vertical-align: middle;\n",
       "    }\n",
       "\n",
       "    .dataframe tbody tr th {\n",
       "        vertical-align: top;\n",
       "    }\n",
       "\n",
       "    .dataframe thead th {\n",
       "        text-align: right;\n",
       "    }\n",
       "</style>\n",
       "<table border=\"1\" class=\"dataframe\">\n",
       "  <thead>\n",
       "    <tr style=\"text-align: right;\">\n",
       "      <th></th>\n",
       "      <th>Movie1</th>\n",
       "      <th>Movie2</th>\n",
       "      <th>Movie3</th>\n",
       "      <th>Movie4</th>\n",
       "      <th>Movie5</th>\n",
       "    </tr>\n",
       "  </thead>\n",
       "  <tbody>\n",
       "    <tr>\n",
       "      <td>movie</td>\n",
       "      <td>Timecop</td>\n",
       "      <td>Looper</td>\n",
       "      <td>Avatar</td>\n",
       "      <td>Starship Troopers</td>\n",
       "      <td>Escape from the Planet of the Apes</td>\n",
       "    </tr>\n",
       "  </tbody>\n",
       "</table>\n",
       "</div>"
      ],
      "text/plain": [
       "        Movie1  Movie2  Movie3             Movie4  \\\n",
       "movie  Timecop  Looper  Avatar  Starship Troopers   \n",
       "\n",
       "                                   Movie5  \n",
       "movie  Escape from the Planet of the Apes  "
      ]
     },
     "execution_count": 140,
     "metadata": {},
     "output_type": "execute_result"
    }
   ],
   "source": [
    "movie_trans"
   ]
  },
  {
   "cell_type": "code",
   "execution_count": 141,
   "metadata": {},
   "outputs": [
    {
     "data": {
      "text/plain": [
       "[(2891, 0.4351941398892446),\n",
       " (1394, 0.41812100500354543),\n",
       " (1409, 0.41812100500354543),\n",
       " (927, 0.36363636363636365),\n",
       " (1653, 0.36363636363636365)]"
      ]
     },
     "execution_count": 141,
     "metadata": {},
     "output_type": "execute_result"
    }
   ],
   "source": [
    "scores"
   ]
  },
  {
   "cell_type": "code",
   "execution_count": 142,
   "metadata": {},
   "outputs": [],
   "source": [
    "scores =  list(zip(*scores)) "
   ]
  },
  {
   "cell_type": "code",
   "execution_count": 143,
   "metadata": {},
   "outputs": [
    {
     "data": {
      "text/plain": [
       "[(2891, 1394, 1409, 927, 1653),\n",
       " (0.4351941398892446,\n",
       "  0.41812100500354543,\n",
       "  0.41812100500354543,\n",
       "  0.36363636363636365,\n",
       "  0.36363636363636365)]"
      ]
     },
     "execution_count": 143,
     "metadata": {},
     "output_type": "execute_result"
    }
   ],
   "source": [
    "scores"
   ]
  },
  {
   "cell_type": "code",
   "execution_count": 144,
   "metadata": {},
   "outputs": [],
   "source": [
    "match = pd.DataFrame(scores[1])"
   ]
  },
  {
   "cell_type": "code",
   "execution_count": 145,
   "metadata": {},
   "outputs": [
    {
     "data": {
      "text/html": [
       "<div>\n",
       "<style scoped>\n",
       "    .dataframe tbody tr th:only-of-type {\n",
       "        vertical-align: middle;\n",
       "    }\n",
       "\n",
       "    .dataframe tbody tr th {\n",
       "        vertical-align: top;\n",
       "    }\n",
       "\n",
       "    .dataframe thead th {\n",
       "        text-align: right;\n",
       "    }\n",
       "</style>\n",
       "<table border=\"1\" class=\"dataframe\">\n",
       "  <thead>\n",
       "    <tr style=\"text-align: right;\">\n",
       "      <th></th>\n",
       "      <th>0</th>\n",
       "    </tr>\n",
       "  </thead>\n",
       "  <tbody>\n",
       "    <tr>\n",
       "      <td>0</td>\n",
       "      <td>0.435194</td>\n",
       "    </tr>\n",
       "    <tr>\n",
       "      <td>1</td>\n",
       "      <td>0.418121</td>\n",
       "    </tr>\n",
       "    <tr>\n",
       "      <td>2</td>\n",
       "      <td>0.418121</td>\n",
       "    </tr>\n",
       "    <tr>\n",
       "      <td>3</td>\n",
       "      <td>0.363636</td>\n",
       "    </tr>\n",
       "    <tr>\n",
       "      <td>4</td>\n",
       "      <td>0.363636</td>\n",
       "    </tr>\n",
       "  </tbody>\n",
       "</table>\n",
       "</div>"
      ],
      "text/plain": [
       "          0\n",
       "0  0.435194\n",
       "1  0.418121\n",
       "2  0.418121\n",
       "3  0.363636\n",
       "4  0.363636"
      ]
     },
     "execution_count": 145,
     "metadata": {},
     "output_type": "execute_result"
    }
   ],
   "source": [
    "match"
   ]
  },
  {
   "cell_type": "code",
   "execution_count": 146,
   "metadata": {},
   "outputs": [],
   "source": [
    "match_fs = match.copy()\n",
    "match_fs.columns = ['score']\n",
    "match_fs['percent_score']  = match_fs['score']*100\n",
    "del match_fs['score']"
   ]
  },
  {
   "cell_type": "code",
   "execution_count": 147,
   "metadata": {},
   "outputs": [
    {
     "data": {
      "text/html": [
       "<div>\n",
       "<style scoped>\n",
       "    .dataframe tbody tr th:only-of-type {\n",
       "        vertical-align: middle;\n",
       "    }\n",
       "\n",
       "    .dataframe tbody tr th {\n",
       "        vertical-align: top;\n",
       "    }\n",
       "\n",
       "    .dataframe thead th {\n",
       "        text-align: right;\n",
       "    }\n",
       "</style>\n",
       "<table border=\"1\" class=\"dataframe\">\n",
       "  <thead>\n",
       "    <tr style=\"text-align: right;\">\n",
       "      <th></th>\n",
       "      <th>percent_score</th>\n",
       "    </tr>\n",
       "  </thead>\n",
       "  <tbody>\n",
       "    <tr>\n",
       "      <td>0</td>\n",
       "      <td>43.519414</td>\n",
       "    </tr>\n",
       "    <tr>\n",
       "      <td>1</td>\n",
       "      <td>41.812101</td>\n",
       "    </tr>\n",
       "    <tr>\n",
       "      <td>2</td>\n",
       "      <td>41.812101</td>\n",
       "    </tr>\n",
       "    <tr>\n",
       "      <td>3</td>\n",
       "      <td>36.363636</td>\n",
       "    </tr>\n",
       "    <tr>\n",
       "      <td>4</td>\n",
       "      <td>36.363636</td>\n",
       "    </tr>\n",
       "  </tbody>\n",
       "</table>\n",
       "</div>"
      ],
      "text/plain": [
       "   percent_score\n",
       "0  43.519414    \n",
       "1  41.812101    \n",
       "2  41.812101    \n",
       "3  36.363636    \n",
       "4  36.363636    "
      ]
     },
     "execution_count": 147,
     "metadata": {},
     "output_type": "execute_result"
    }
   ],
   "source": [
    "match_fs"
   ]
  },
  {
   "cell_type": "code",
   "execution_count": 148,
   "metadata": {},
   "outputs": [],
   "source": [
    "match_fs = match_fs.transpose()"
   ]
  },
  {
   "cell_type": "code",
   "execution_count": 149,
   "metadata": {},
   "outputs": [],
   "source": [
    "match_fs.columns = ['Movie1_FS','Movie2_FS','Movie3_FS','Movie4_FS','Movie5_FS']"
   ]
  },
  {
   "cell_type": "code",
   "execution_count": 150,
   "metadata": {},
   "outputs": [
    {
     "data": {
      "text/html": [
       "<div>\n",
       "<style scoped>\n",
       "    .dataframe tbody tr th:only-of-type {\n",
       "        vertical-align: middle;\n",
       "    }\n",
       "\n",
       "    .dataframe tbody tr th {\n",
       "        vertical-align: top;\n",
       "    }\n",
       "\n",
       "    .dataframe thead th {\n",
       "        text-align: right;\n",
       "    }\n",
       "</style>\n",
       "<table border=\"1\" class=\"dataframe\">\n",
       "  <thead>\n",
       "    <tr style=\"text-align: right;\">\n",
       "      <th></th>\n",
       "      <th>Movie1_FS</th>\n",
       "      <th>Movie2_FS</th>\n",
       "      <th>Movie3_FS</th>\n",
       "      <th>Movie4_FS</th>\n",
       "      <th>Movie5_FS</th>\n",
       "    </tr>\n",
       "  </thead>\n",
       "  <tbody>\n",
       "    <tr>\n",
       "      <td>percent_score</td>\n",
       "      <td>43.519414</td>\n",
       "      <td>41.812101</td>\n",
       "      <td>41.812101</td>\n",
       "      <td>36.363636</td>\n",
       "      <td>36.363636</td>\n",
       "    </tr>\n",
       "  </tbody>\n",
       "</table>\n",
       "</div>"
      ],
      "text/plain": [
       "               Movie1_FS  Movie2_FS  Movie3_FS  Movie4_FS  Movie5_FS\n",
       "percent_score  43.519414  41.812101  41.812101  36.363636  36.363636"
      ]
     },
     "execution_count": 150,
     "metadata": {},
     "output_type": "execute_result"
    }
   ],
   "source": [
    "match_fs "
   ]
  },
  {
   "cell_type": "code",
   "execution_count": 151,
   "metadata": {},
   "outputs": [],
   "source": [
    "movie_trans = movie_trans.reset_index()\n",
    "match_fs = match_fs.reset_index()"
   ]
  },
  {
   "cell_type": "code",
   "execution_count": 152,
   "metadata": {},
   "outputs": [],
   "source": [
    "recommenderoutput = pd.concat([movie_trans[['Movie1','Movie2','Movie3','Movie4','Movie5']],\n",
    "                               match_fs[['Movie1_FS','Movie2_FS','Movie3_FS','Movie4_FS','Movie5_FS']]],axis = 1)"
   ]
  },
  {
   "cell_type": "markdown",
   "metadata": {},
   "source": [
    "#### 5 most similar movies"
   ]
  },
  {
   "cell_type": "code",
   "execution_count": 153,
   "metadata": {},
   "outputs": [
    {
     "data": {
      "text/html": [
       "<div>\n",
       "<style scoped>\n",
       "    .dataframe tbody tr th:only-of-type {\n",
       "        vertical-align: middle;\n",
       "    }\n",
       "\n",
       "    .dataframe tbody tr th {\n",
       "        vertical-align: top;\n",
       "    }\n",
       "\n",
       "    .dataframe thead th {\n",
       "        text-align: right;\n",
       "    }\n",
       "</style>\n",
       "<table border=\"1\" class=\"dataframe\">\n",
       "  <thead>\n",
       "    <tr style=\"text-align: right;\">\n",
       "      <th></th>\n",
       "      <th>Movie1</th>\n",
       "      <th>Movie2</th>\n",
       "      <th>Movie3</th>\n",
       "      <th>Movie4</th>\n",
       "      <th>Movie5</th>\n",
       "      <th>Movie1_FS</th>\n",
       "      <th>Movie2_FS</th>\n",
       "      <th>Movie3_FS</th>\n",
       "      <th>Movie4_FS</th>\n",
       "      <th>Movie5_FS</th>\n",
       "    </tr>\n",
       "  </thead>\n",
       "  <tbody>\n",
       "    <tr>\n",
       "      <td>0</td>\n",
       "      <td>Timecop</td>\n",
       "      <td>Looper</td>\n",
       "      <td>Avatar</td>\n",
       "      <td>Starship Troopers</td>\n",
       "      <td>Escape from the Planet of the Apes</td>\n",
       "      <td>43.519414</td>\n",
       "      <td>41.812101</td>\n",
       "      <td>41.812101</td>\n",
       "      <td>36.363636</td>\n",
       "      <td>36.363636</td>\n",
       "    </tr>\n",
       "  </tbody>\n",
       "</table>\n",
       "</div>"
      ],
      "text/plain": [
       "    Movie1  Movie2  Movie3             Movie4  \\\n",
       "0  Timecop  Looper  Avatar  Starship Troopers   \n",
       "\n",
       "                               Movie5  Movie1_FS  Movie2_FS  Movie3_FS  \\\n",
       "0  Escape from the Planet of the Apes  43.519414  41.812101  41.812101   \n",
       "\n",
       "   Movie4_FS  Movie5_FS  \n",
       "0  36.363636  36.363636  "
      ]
     },
     "execution_count": 153,
     "metadata": {},
     "output_type": "execute_result"
    }
   ],
   "source": [
    "recommenderoutput"
   ]
  },
  {
   "cell_type": "code",
   "execution_count": null,
   "metadata": {},
   "outputs": [],
   "source": []
  }
 ],
 "metadata": {
  "kernelspec": {
   "display_name": "Python 3",
   "language": "python",
   "name": "python3"
  },
  "language_info": {
   "codemirror_mode": {
    "name": "ipython",
    "version": 3
   },
   "file_extension": ".py",
   "mimetype": "text/x-python",
   "name": "python",
   "nbconvert_exporter": "python",
   "pygments_lexer": "ipython3",
   "version": "3.7.4"
  }
 },
 "nbformat": 4,
 "nbformat_minor": 2
}
